{
 "cells": [
  {
   "cell_type": "markdown",
   "metadata": {},
   "source": [
    "# Spelling Corrector : Pulaar\n",
    "In this notebook, we will implement an auto-correct system using pulaar language. Pulaar is spoken by million people across about 20 countries in West and Central Africa. This notebook is inspired by [Peter Norvig](https://en.wikipedia.org/wiki/Peter_Norvig) who first created auto-correct in 2007 and [Deeplearning.ai](https://www.deeplearning.ai/program/natural-language-processing-specialization/) NLP specialization I took last year. Below the [original article](https://norvig.com/spell-correct.html) of Peter Norvig."
   ]
  },
  {
   "cell_type": "markdown",
   "metadata": {},
   "source": [
    "Auto-correct systems are nowadays everywhere. \n",
    "- For example, if you type in the word **\"atocorec\"**, chances are very high that you meant to write **\"autocorrect\"**, as shown in **Figure 1**. "
   ]
  },
  {
   "cell_type": "markdown",
   "metadata": {},
   "source": [
    "<div style=\"width:image width px; font-size:100%; text-align:center;\"><img src='https://cdn.techterms.com/img/md/autocorrect_1317.png' alt=\"alternate text\" width=\"width\" height=\"height\" style=\"width:300px;height:250px;\" /> Figure 1 </div>"
   ]
  },
  {
   "cell_type": "markdown",
   "metadata": {},
   "source": [
    "<a name='0-1'></a>\n",
    "#### Edit Distance\n",
    "\n",
    "We will implement models that correct words that are 1 and 2 edit distances away. \n",
    "- We say two words are n edit distance away from each other when we need n edits to change one word into another. \n",
    "\n",
    "An edit could consist of one of the following options: \n",
    "\n",
    "- Delete (remove a letter): ‘hat’ => ‘at, ha, ht’\n",
    "- Switch (swap 2 adjacent letters): ‘eta’ => ‘eat, tea,...’\n",
    "- Replace (change 1 letter to another): ‘jat’ => ‘hat, rat, cat, mat, ...’\n",
    "- Insert (add a letter): ‘te’ => ‘the, ten, ate, ...’\n",
    "\n",
    "We will be using the four methods above to implement an Auto-correct. \n",
    "\n",
    "- To do so, we will need to compute probabilities that a certain word is correct given an input. \n",
    "\n",
    "The goal of our spell check model is to compute the following probability:\n",
    "\n",
    "\\begin{equation}\n",
    "P(c|w) = \\frac{P(w|c)\\times P(c)}{P(w)} \\tag{Eqn-1}\n",
    "\\end{equation}\n",
    "\n",
    "The equation above is [Bayes Rule](https://en.wikipedia.org/wiki/Bayes%27_theorem). \n",
    "- Equation 1 says that the probability of a word being correct $P(c|w) $is equal to the probability of having a certain word $w$, given that it is correct $P(w|c)$, multiplied by the probability of being correct in general $P(C)$ divided by the probability of that word $w$ appearing $P(w)$ in general.\n",
    "- To compute equation 1, we will first import a data set and then create all the probabilities that we need using that data set. "
   ]
  },
  {
   "cell_type": "markdown",
   "metadata": {},
   "source": [
    "<a name='1'></a>\n",
    "# Part 1: Data Preprocessing "
   ]
  },
  {
   "cell_type": "code",
   "execution_count": 1,
   "metadata": {},
   "outputs": [],
   "source": [
    "import re\n",
    "from collections import Counter\n",
    "import numpy as np\n",
    "import pandas as pd"
   ]
  },
  {
   "cell_type": "markdown",
   "metadata": {},
   "source": [
    "As in any other machine learning task, the first thing we have to do is process our data set. Let's write a function that reads our our text file, lowercase everything and returns a list of words."
   ]
  },
  {
   "cell_type": "code",
   "execution_count": 2,
   "metadata": {},
   "outputs": [],
   "source": [
    "def process_data(file_name):\n",
    "    \"\"\"\n",
    "    Input: \n",
    "        A file_name  \n",
    "    Output: \n",
    "        words: a list containing all the words in the text file in lower case. \n",
    "    \"\"\"\n",
    "    words = [] \n",
    "    file = open(file_name).read()\n",
    "    words = re.findall(r'\\w+', file.lower())\n",
    "    return words"
   ]
  },
  {
   "cell_type": "code",
   "execution_count": 3,
   "metadata": {},
   "outputs": [],
   "source": [
    "word_list = process_data('pulaar.txt')"
   ]
  },
  {
   "cell_type": "markdown",
   "metadata": {},
   "source": [
    "Note, in the following cell, 'words' is converted to a python `set`. This eliminates any duplicate entries."
   ]
  },
  {
   "cell_type": "code",
   "execution_count": 4,
   "metadata": {},
   "outputs": [
    {
     "name": "stdout",
     "output_type": "stream",
     "text": [
      "The first ten words in the text are: \n",
      "['hitaande', 'waɗi', 'ko', 'lebbi', 'sappo', 'e', 'ɗiɗi', 'mi', 'yiɗaa', 'ñaameele']\n",
      "There are 3705 unique words in the vocabulary.\n"
     ]
    }
   ],
   "source": [
    "vocab = set(word_list)  # this will be your new vocabulary\n",
    "print(f\"The first ten words in the text are: \\n{word_list[0:10]}\")\n",
    "print(f\"There are {len(vocab)} unique words in the vocabulary.\")"
   ]
  },
  {
   "cell_type": "markdown",
   "metadata": {},
   "source": [
    "In the following cell, we will compute a `get_count` function that returns a dictionary\n",
    "- The dictionary's keys are words\n",
    "- The value for each word is the number of times that word appears in the corpus. \n",
    "\n",
    "For example, given the following sentence: **\"I am happy because I am learning\"**, the dictionary should return the following: \n",
    "<table style=\"width:20%\">\n",
    "\n",
    "  <tr>\n",
    "    <td> <b>Key </b>  </td>\n",
    "    <td> <b>Value </b> </td> \n",
    "\n",
    "\n",
    "  </tr>\n",
    "  <tr>\n",
    "    <td> I  </td>\n",
    "    <td> 2</td> \n",
    " \n",
    "  </tr>\n",
    "   \n",
    "  <tr>\n",
    "    <td>am</td>\n",
    "    <td>2</td> \n",
    "  </tr>\n",
    "\n",
    "  <tr>\n",
    "    <td>happy</td>\n",
    "    <td>1</td> \n",
    "  </tr>\n",
    "  \n",
    "   <tr>\n",
    "    <td>because</td>\n",
    "    <td>1</td> \n",
    "  </tr>\n",
    "  \n",
    "   <tr>\n",
    "    <td>learning</td>\n",
    "    <td>1</td> \n",
    "  </tr>\n",
    "</table>\n",
    "\n"
   ]
  },
  {
   "cell_type": "markdown",
   "metadata": {},
   "source": [
    "#### Word count"
   ]
  },
  {
   "cell_type": "code",
   "execution_count": 5,
   "metadata": {},
   "outputs": [],
   "source": [
    "def get_count(word_l):\n",
    "    '''\n",
    "    Input:\n",
    "        word_l: a set of words representing the corpus. \n",
    "    Output:\n",
    "        word_count_dict: The wordcount dictionary where key is the word and value is its frequency.\n",
    "    '''   \n",
    "    word_count_dict = {}  \n",
    "    word_count_dict = Counter(word_l)\n",
    "    return word_count_dict"
   ]
  },
  {
   "cell_type": "code",
   "execution_count": 6,
   "metadata": {},
   "outputs": [
    {
     "name": "stdout",
     "output_type": "stream",
     "text": [
      "There are 3705 key values pairs\n",
      "The count for the word 'hitaande' is 5\n"
     ]
    }
   ],
   "source": [
    "word_count_dict = get_count(word_list)\n",
    "print(f\"There are {len(word_count_dict)} key values pairs\")\n",
    "print(f\"The count for the word 'hitaande' is {word_count_dict.get('hitaande',0)}\")"
   ]
  },
  {
   "cell_type": "markdown",
   "metadata": {},
   "source": [
    "#### Probability \n",
    "Given the dictionary of word counts, we will compute the probability that each word will appear if randomly selected from the corpus of words.\n",
    "\n",
    "$$P(w_i) = \\frac{C(w_i)}{M} \\tag{Eqn-2}$$\n",
    "where \n",
    "\n",
    "$C(w_i)$ is the total number of times $w_i$ appears in the corpus.\n",
    "\n",
    "$M$ is the total number of words in the corpus.\n",
    "\n",
    "For example, the probability of the word 'am' in the sentence **'I am happy because I am learning'** is:\n",
    "\n",
    "$$P(am) = \\frac{C(w_i)}{M} = \\frac {2}{7} \\tag{Eqn-3}.$$\n"
   ]
  },
  {
   "cell_type": "code",
   "execution_count": 7,
   "metadata": {},
   "outputs": [],
   "source": [
    "def get_probs(word_count_dict):\n",
    "    '''\n",
    "    Input:\n",
    "        word_count_dict: The wordcount dictionary where key is the word and value is its frequency.\n",
    "    Output:\n",
    "        probs: A dictionary where keys are the words and the values are the probability that a word will occur. \n",
    "    '''\n",
    "    probs = {} \n",
    "    probs = {word: word_count_dict[word]/sum(word_count_dict.values()) for word in word_count_dict}\n",
    "    return probs"
   ]
  },
  {
   "cell_type": "code",
   "execution_count": 8,
   "metadata": {},
   "outputs": [
    {
     "name": "stdout",
     "output_type": "stream",
     "text": [
      "Length of probs is 3705\n",
      "P('jaŋde') is 0.0022\n"
     ]
    }
   ],
   "source": [
    "probs = get_probs(word_count_dict)\n",
    "print(f\"Length of probs is {len(probs)}\")\n",
    "print(f\"P('jaŋde') is {probs['jaŋde']:.4f}\")"
   ]
  },
  {
   "cell_type": "markdown",
   "metadata": {},
   "source": [
    "# Part 2: String Manipulations\n",
    "\n",
    "Now, that we have computed $P(w_i)$ for all the words in the corpus, we will write a few functions to manipulate strings so that we can edit the erroneous strings and return the right spellings of the words. In this section, we will implement four functions: \n",
    "\n",
    "* `delete_letter`: given a word, it returns all the possible strings that have **one character removed**. \n",
    "* `switch_letter`: given a word, it returns all the possible strings that have **two adjacent letters switched**.\n",
    "* `replace_letter`: given a word, it returns all the possible strings that have **one character replaced by another different letter**.\n",
    "* `insert_letter`: given a word, it returns all the possible strings that have an **additional character inserted**. \n"
   ]
  },
  {
   "cell_type": "markdown",
   "metadata": {},
   "source": [
    "#### Delete letter \n",
    "\n",
    "Let's implement a `delete_letter()` function that, given a word, returns a list of strings with one character deleted. \n",
    "\n",
    "For example, given the word **jaŋde**, it would return the set: {'aŋde', 'jŋde', 'jade', 'jaŋe', 'jaŋd'}. \n"
   ]
  },
  {
   "cell_type": "code",
   "execution_count": 9,
   "metadata": {},
   "outputs": [],
   "source": [
    "def delete_letter(word, verbose=False):\n",
    "    '''\n",
    "    Input:\n",
    "        word: the string/word for which we will generate all possible words \n",
    "                in the vocabulary which have 1 missing character\n",
    "    Output:\n",
    "        delete_l: a list of all possible strings obtained by deleting 1 character from word\n",
    "    '''\n",
    "    \n",
    "    split_l = [(word[:i],word[i:]) for i in range(len(word) + 1)]\n",
    "    delete_l = [L + R[1:] for L, R in split_l if R]\n",
    "\n",
    "    if verbose: print(f\"Input word {word}, \\nsplit_l = {split_l}, \\ndelete_l = {delete_l}\")\n",
    "\n",
    "    return delete_l"
   ]
  },
  {
   "cell_type": "code",
   "execution_count": 10,
   "metadata": {},
   "outputs": [
    {
     "name": "stdout",
     "output_type": "stream",
     "text": [
      "Input word jaŋde, \n",
      "split_l = [('', 'jaŋde'), ('j', 'aŋde'), ('ja', 'ŋde'), ('jaŋ', 'de'), ('jaŋd', 'e'), ('jaŋde', '')], \n",
      "delete_l = ['aŋde', 'jŋde', 'jade', 'jaŋe', 'jaŋd']\n"
     ]
    }
   ],
   "source": [
    "delete_word_l = delete_letter(word=\"jaŋde\",\n",
    "                        verbose=True)"
   ]
  },
  {
   "cell_type": "markdown",
   "metadata": {},
   "source": [
    "<a name='ex-5'></a>\n",
    "#### Switch letter \n",
    "\n",
    "Now we will implement a function that switches two letters in a word. It takes in a word and returns a list of all the possible switches of two letters **that are adjacent to each other**. \n",
    "- For example, given the word 'eta', it returns {'eat', 'tea'}, but does not return 'ate'.\n"
   ]
  },
  {
   "cell_type": "code",
   "execution_count": 11,
   "metadata": {},
   "outputs": [],
   "source": [
    "def switch_letter(word, verbose=False):\n",
    "    '''\n",
    "    Input:\n",
    "        word: input string\n",
    "     Output:\n",
    "        switches: a list of all possible strings with one adjacent charater switched\n",
    "    ''' \n",
    "    \n",
    "    switch_l = []\n",
    "    split_l = []\n",
    "    \n",
    "    split_l = [(word[:i],word[i:]) for i in range(len(word) + 1)]\n",
    "    switch_l = [L + R[1] + R[0] + R[2:] for L, R in split_l if len(R)>1]\n",
    "    \n",
    "    if verbose: print(f\"Input word = {word} \\nsplit_l = {split_l} \\nswitch_l = {switch_l}\") \n",
    "\n",
    "    return switch_l"
   ]
  },
  {
   "cell_type": "code",
   "execution_count": 12,
   "metadata": {},
   "outputs": [
    {
     "name": "stdout",
     "output_type": "stream",
     "text": [
      "Input word = jaŋde \n",
      "split_l = [('', 'jaŋde'), ('j', 'aŋde'), ('ja', 'ŋde'), ('jaŋ', 'de'), ('jaŋd', 'e'), ('jaŋde', '')] \n",
      "switch_l = ['ajŋde', 'jŋade', 'jadŋe', 'jaŋed']\n"
     ]
    }
   ],
   "source": [
    "switch_word_l = switch_letter(word=\"jaŋde\",\n",
    "                         verbose=True)"
   ]
  },
  {
   "cell_type": "markdown",
   "metadata": {},
   "source": [
    "#### Replace letter\n",
    "Let's implement a function that takes in a word and returns a list of strings with one **replaced letter** from the original word. "
   ]
  },
  {
   "cell_type": "code",
   "execution_count": 15,
   "metadata": {},
   "outputs": [],
   "source": [
    "def replace_letter(word, verbose=False):\n",
    "    '''\n",
    "    Input:\n",
    "        word: the input string/word \n",
    "    Output:\n",
    "        replaces: a list of all possible strings where we replaced one letter from the original word. \n",
    "    ''' \n",
    "    \n",
    "    letters = 'abɓcdɗefghijklmnŋñoprstuwyƴz'\n",
    "    \n",
    "    split_l = [(word[:i],word[i:]) for i in range(len(word) + 1)]\n",
    "    replace_l = [L + c + R[1:] for L, R in split_l if R for c in letters]\n",
    "\n",
    "    replace_set = set(replace_l)\n",
    "    replace_l = sorted(list(replace_set))\n",
    "    \n",
    "    if verbose: print(f\"Input word = {word} \\nsplit_l = {split_l} \\nreplace_l {replace_l}\")   \n",
    "    \n",
    "    return replace_l"
   ]
  },
  {
   "cell_type": "code",
   "execution_count": 16,
   "metadata": {},
   "outputs": [
    {
     "name": "stdout",
     "output_type": "stream",
     "text": [
      "Input word = jaŋde \n",
      "split_l = [('', 'jaŋde'), ('j', 'aŋde'), ('ja', 'ŋde'), ('jaŋ', 'de'), ('jaŋd', 'e'), ('jaŋde', '')] \n",
      "replace_l ['aaŋde', 'baŋde', 'caŋde', 'daŋde', 'eaŋde', 'faŋde', 'gaŋde', 'haŋde', 'iaŋde', 'jaade', 'jabde', 'jacde', 'jadde', 'jaede', 'jafde', 'jagde', 'jahde', 'jaide', 'jajde', 'jakde', 'jalde', 'jamde', 'jande', 'jaode', 'japde', 'jarde', 'jasde', 'jatde', 'jaude', 'jawde', 'jayde', 'jazde', 'jañde', 'jaŋae', 'jaŋbe', 'jaŋce', 'jaŋda', 'jaŋdb', 'jaŋdc', 'jaŋdd', 'jaŋde', 'jaŋdf', 'jaŋdg', 'jaŋdh', 'jaŋdi', 'jaŋdj', 'jaŋdk', 'jaŋdl', 'jaŋdm', 'jaŋdn', 'jaŋdo', 'jaŋdp', 'jaŋdr', 'jaŋds', 'jaŋdt', 'jaŋdu', 'jaŋdw', 'jaŋdy', 'jaŋdz', 'jaŋdñ', 'jaŋdŋ', 'jaŋdƴ', 'jaŋdɓ', 'jaŋdɗ', 'jaŋee', 'jaŋfe', 'jaŋge', 'jaŋhe', 'jaŋie', 'jaŋje', 'jaŋke', 'jaŋle', 'jaŋme', 'jaŋne', 'jaŋoe', 'jaŋpe', 'jaŋre', 'jaŋse', 'jaŋte', 'jaŋue', 'jaŋwe', 'jaŋye', 'jaŋze', 'jaŋñe', 'jaŋŋe', 'jaŋƴe', 'jaŋɓe', 'jaŋɗe', 'jaƴde', 'jaɓde', 'jaɗde', 'jbŋde', 'jcŋde', 'jdŋde', 'jeŋde', 'jfŋde', 'jgŋde', 'jhŋde', 'jiŋde', 'jjŋde', 'jkŋde', 'jlŋde', 'jmŋde', 'jnŋde', 'joŋde', 'jpŋde', 'jrŋde', 'jsŋde', 'jtŋde', 'juŋde', 'jwŋde', 'jyŋde', 'jzŋde', 'jñŋde', 'jŋŋde', 'jƴŋde', 'jɓŋde', 'jɗŋde', 'kaŋde', 'laŋde', 'maŋde', 'naŋde', 'oaŋde', 'paŋde', 'raŋde', 'saŋde', 'taŋde', 'uaŋde', 'waŋde', 'yaŋde', 'zaŋde', 'ñaŋde', 'ŋaŋde', 'ƴaŋde', 'ɓaŋde', 'ɗaŋde']\n"
     ]
    }
   ],
   "source": [
    "replace_l = replace_letter(word='jaŋde',\n",
    "                              verbose=True)"
   ]
  },
  {
   "cell_type": "markdown",
   "metadata": {},
   "source": [
    "#### Insert letter \n",
    "\n",
    "In the next cell, we will compute a function that takes in a word and returns a list with a letter inserted at every offset.  "
   ]
  },
  {
   "cell_type": "code",
   "execution_count": 17,
   "metadata": {},
   "outputs": [],
   "source": [
    "def insert_letter(word, verbose=False):\n",
    "    '''\n",
    "    Input:\n",
    "        word: the input string/word \n",
    "    Output:\n",
    "        inserts: a set of all possible strings with one new letter inserted at every offset\n",
    "    ''' \n",
    "    letters = 'abɓcdɗefghijklmnŋñoprstuwyƴz'\n",
    "    \n",
    "    split_l = [(word[:i],word[i:]) for i in range(len(word) + 1)]\n",
    "    insert_l = [L + c + R for L, R in split_l for c in letters]\n",
    "\n",
    "    if verbose: print(f\"Input word {word} \\nsplit_l = {split_l} \\ninsert_l = {insert_l}\")\n",
    "    \n",
    "    return insert_l"
   ]
  },
  {
   "cell_type": "code",
   "execution_count": 18,
   "metadata": {},
   "outputs": [
    {
     "name": "stdout",
     "output_type": "stream",
     "text": [
      "Input word jaŋde \n",
      "split_l = [('', 'jaŋde'), ('j', 'aŋde'), ('ja', 'ŋde'), ('jaŋ', 'de'), ('jaŋd', 'e'), ('jaŋde', '')] \n",
      "insert_l = ['ajaŋde', 'bjaŋde', 'ɓjaŋde', 'cjaŋde', 'djaŋde', 'ɗjaŋde', 'ejaŋde', 'fjaŋde', 'gjaŋde', 'hjaŋde', 'ijaŋde', 'jjaŋde', 'kjaŋde', 'ljaŋde', 'mjaŋde', 'njaŋde', 'ŋjaŋde', 'ñjaŋde', 'ojaŋde', 'pjaŋde', 'rjaŋde', 'sjaŋde', 'tjaŋde', 'ujaŋde', 'wjaŋde', 'yjaŋde', 'ƴjaŋde', 'zjaŋde', 'jaaŋde', 'jbaŋde', 'jɓaŋde', 'jcaŋde', 'jdaŋde', 'jɗaŋde', 'jeaŋde', 'jfaŋde', 'jgaŋde', 'jhaŋde', 'jiaŋde', 'jjaŋde', 'jkaŋde', 'jlaŋde', 'jmaŋde', 'jnaŋde', 'jŋaŋde', 'jñaŋde', 'joaŋde', 'jpaŋde', 'jraŋde', 'jsaŋde', 'jtaŋde', 'juaŋde', 'jwaŋde', 'jyaŋde', 'jƴaŋde', 'jzaŋde', 'jaaŋde', 'jabŋde', 'jaɓŋde', 'jacŋde', 'jadŋde', 'jaɗŋde', 'jaeŋde', 'jafŋde', 'jagŋde', 'jahŋde', 'jaiŋde', 'jajŋde', 'jakŋde', 'jalŋde', 'jamŋde', 'janŋde', 'jaŋŋde', 'jañŋde', 'jaoŋde', 'japŋde', 'jarŋde', 'jasŋde', 'jatŋde', 'jauŋde', 'jawŋde', 'jayŋde', 'jaƴŋde', 'jazŋde', 'jaŋade', 'jaŋbde', 'jaŋɓde', 'jaŋcde', 'jaŋdde', 'jaŋɗde', 'jaŋede', 'jaŋfde', 'jaŋgde', 'jaŋhde', 'jaŋide', 'jaŋjde', 'jaŋkde', 'jaŋlde', 'jaŋmde', 'jaŋnde', 'jaŋŋde', 'jaŋñde', 'jaŋode', 'jaŋpde', 'jaŋrde', 'jaŋsde', 'jaŋtde', 'jaŋude', 'jaŋwde', 'jaŋyde', 'jaŋƴde', 'jaŋzde', 'jaŋdae', 'jaŋdbe', 'jaŋdɓe', 'jaŋdce', 'jaŋdde', 'jaŋdɗe', 'jaŋdee', 'jaŋdfe', 'jaŋdge', 'jaŋdhe', 'jaŋdie', 'jaŋdje', 'jaŋdke', 'jaŋdle', 'jaŋdme', 'jaŋdne', 'jaŋdŋe', 'jaŋdñe', 'jaŋdoe', 'jaŋdpe', 'jaŋdre', 'jaŋdse', 'jaŋdte', 'jaŋdue', 'jaŋdwe', 'jaŋdye', 'jaŋdƴe', 'jaŋdze', 'jaŋdea', 'jaŋdeb', 'jaŋdeɓ', 'jaŋdec', 'jaŋded', 'jaŋdeɗ', 'jaŋdee', 'jaŋdef', 'jaŋdeg', 'jaŋdeh', 'jaŋdei', 'jaŋdej', 'jaŋdek', 'jaŋdel', 'jaŋdem', 'jaŋden', 'jaŋdeŋ', 'jaŋdeñ', 'jaŋdeo', 'jaŋdep', 'jaŋder', 'jaŋdes', 'jaŋdet', 'jaŋdeu', 'jaŋdew', 'jaŋdey', 'jaŋdeƴ', 'jaŋdez']\n",
      "Number of strings output by insert_letter('jaŋde') is 168\n"
     ]
    }
   ],
   "source": [
    "insert_l = insert_letter('jaŋde', True)\n",
    "print(f\"Number of strings output by insert_letter('jaŋde') is {len(insert_l)}\")"
   ]
  },
  {
   "cell_type": "markdown",
   "metadata": {},
   "source": [
    "# Part 3: Combining the edits\n",
    "\n",
    "Now that we have implemented the string manipulations, we will create two functions that, given a string, will return all the possible single and double edits on that string. These will be `edit_one_letter()` and `edit_two_letters()`."
   ]
  },
  {
   "cell_type": "markdown",
   "metadata": {},
   "source": [
    "## 3.1 Edit one letter\n",
    "\n",
    "\n",
    "Let's implement the `edit_one_letter` function to get all the possible edits that are one edit away from a word. The edits  consist of the replace, insert, delete, and optionally the switch operation. We will use the previous functions we have already implemented to complete this function. The 'switch' function  is a less common edit function, so its use will be selected by an \"allow_switches\" input argument.\n",
    "\n",
    "Note that those functions return *lists* while this function should return a *python set*. Utilizing a set eliminates any duplicate entries."
   ]
  },
  {
   "cell_type": "code",
   "execution_count": 19,
   "metadata": {},
   "outputs": [],
   "source": [
    "def edit_one_letter(word, allow_switches = True):\n",
    "    \"\"\"\n",
    "    Input:\n",
    "        word: the string/word for which we will generate all possible wordsthat are one edit away.\n",
    "    Output:\n",
    "        edit_one_set: a set of words with one possible edit. Please return a set. and not a list.\n",
    "    \"\"\"\n",
    "    \n",
    "    edit_one_set = set()\n",
    "        \n",
    "    edit_one_set.update(delete_letter(word))\n",
    "    if allow_switches:\n",
    "        edit_one_set.update(switch_letter(word))\n",
    "    edit_one_set.update(replace_letter(word))\n",
    "    edit_one_set.update(insert_letter(word))\n",
    "\n",
    "    return edit_one_set"
   ]
  },
  {
   "cell_type": "code",
   "execution_count": 20,
   "metadata": {},
   "outputs": [
    {
     "name": "stdout",
     "output_type": "stream",
     "text": [
      "input word jaŋde \n",
      "edit_one_l \n",
      "['aaŋde', 'ajaŋde', 'ajŋde', 'aŋde', 'baŋde', 'bjaŋde', 'caŋde', 'cjaŋde', 'daŋde', 'djaŋde', 'eaŋde', 'ejaŋde', 'faŋde', 'fjaŋde', 'gaŋde', 'gjaŋde', 'haŋde', 'hjaŋde', 'iaŋde', 'ijaŋde', 'jaade', 'jaaŋde', 'jabde', 'jabŋde', 'jacde', 'jacŋde', 'jadde', 'jade', 'jadŋde', 'jadŋe', 'jaede', 'jaeŋde', 'jafde', 'jafŋde', 'jagde', 'jagŋde', 'jahde', 'jahŋde', 'jaide', 'jaiŋde', 'jajde', 'jajŋde', 'jakde', 'jakŋde', 'jalde', 'jalŋde', 'jamde', 'jamŋde', 'jande', 'janŋde', 'jaode', 'jaoŋde', 'japde', 'japŋde', 'jarde', 'jarŋde', 'jasde', 'jasŋde', 'jatde', 'jatŋde', 'jaude', 'jauŋde', 'jawde', 'jawŋde', 'jayde', 'jayŋde', 'jazde', 'jazŋde', 'jañde', 'jañŋde', 'jaŋade', 'jaŋae', 'jaŋbde', 'jaŋbe', 'jaŋcde', 'jaŋce', 'jaŋd', 'jaŋda', 'jaŋdae', 'jaŋdb', 'jaŋdbe', 'jaŋdc', 'jaŋdce', 'jaŋdd', 'jaŋdde', 'jaŋde', 'jaŋdea', 'jaŋdeb', 'jaŋdec', 'jaŋded', 'jaŋdee', 'jaŋdef', 'jaŋdeg', 'jaŋdeh', 'jaŋdei', 'jaŋdej', 'jaŋdek', 'jaŋdel', 'jaŋdem', 'jaŋden', 'jaŋdeo', 'jaŋdep', 'jaŋder', 'jaŋdes', 'jaŋdet', 'jaŋdeu', 'jaŋdew', 'jaŋdey', 'jaŋdez', 'jaŋdeñ', 'jaŋdeŋ', 'jaŋdeƴ', 'jaŋdeɓ', 'jaŋdeɗ', 'jaŋdf', 'jaŋdfe', 'jaŋdg', 'jaŋdge', 'jaŋdh', 'jaŋdhe', 'jaŋdi', 'jaŋdie', 'jaŋdj', 'jaŋdje', 'jaŋdk', 'jaŋdke', 'jaŋdl', 'jaŋdle', 'jaŋdm', 'jaŋdme', 'jaŋdn', 'jaŋdne', 'jaŋdo', 'jaŋdoe', 'jaŋdp', 'jaŋdpe', 'jaŋdr', 'jaŋdre', 'jaŋds', 'jaŋdse', 'jaŋdt', 'jaŋdte', 'jaŋdu', 'jaŋdue', 'jaŋdw', 'jaŋdwe', 'jaŋdy', 'jaŋdye', 'jaŋdz', 'jaŋdze', 'jaŋdñ', 'jaŋdñe', 'jaŋdŋ', 'jaŋdŋe', 'jaŋdƴ', 'jaŋdƴe', 'jaŋdɓ', 'jaŋdɓe', 'jaŋdɗ', 'jaŋdɗe', 'jaŋe', 'jaŋed', 'jaŋede', 'jaŋee', 'jaŋfde', 'jaŋfe', 'jaŋgde', 'jaŋge', 'jaŋhde', 'jaŋhe', 'jaŋide', 'jaŋie', 'jaŋjde', 'jaŋje', 'jaŋkde', 'jaŋke', 'jaŋlde', 'jaŋle', 'jaŋmde', 'jaŋme', 'jaŋnde', 'jaŋne', 'jaŋode', 'jaŋoe', 'jaŋpde', 'jaŋpe', 'jaŋrde', 'jaŋre', 'jaŋsde', 'jaŋse', 'jaŋtde', 'jaŋte', 'jaŋude', 'jaŋue', 'jaŋwde', 'jaŋwe', 'jaŋyde', 'jaŋye', 'jaŋzde', 'jaŋze', 'jaŋñde', 'jaŋñe', 'jaŋŋde', 'jaŋŋe', 'jaŋƴde', 'jaŋƴe', 'jaŋɓde', 'jaŋɓe', 'jaŋɗde', 'jaŋɗe', 'jaƴde', 'jaƴŋde', 'jaɓde', 'jaɓŋde', 'jaɗde', 'jaɗŋde', 'jbaŋde', 'jbŋde', 'jcaŋde', 'jcŋde', 'jdaŋde', 'jdŋde', 'jeaŋde', 'jeŋde', 'jfaŋde', 'jfŋde', 'jgaŋde', 'jgŋde', 'jhaŋde', 'jhŋde', 'jiaŋde', 'jiŋde', 'jjaŋde', 'jjŋde', 'jkaŋde', 'jkŋde', 'jlaŋde', 'jlŋde', 'jmaŋde', 'jmŋde', 'jnaŋde', 'jnŋde', 'joaŋde', 'joŋde', 'jpaŋde', 'jpŋde', 'jraŋde', 'jrŋde', 'jsaŋde', 'jsŋde', 'jtaŋde', 'jtŋde', 'juaŋde', 'juŋde', 'jwaŋde', 'jwŋde', 'jyaŋde', 'jyŋde', 'jzaŋde', 'jzŋde', 'jñaŋde', 'jñŋde', 'jŋade', 'jŋaŋde', 'jŋde', 'jŋŋde', 'jƴaŋde', 'jƴŋde', 'jɓaŋde', 'jɓŋde', 'jɗaŋde', 'jɗŋde', 'kaŋde', 'kjaŋde', 'laŋde', 'ljaŋde', 'maŋde', 'mjaŋde', 'naŋde', 'njaŋde', 'oaŋde', 'ojaŋde', 'paŋde', 'pjaŋde', 'raŋde', 'rjaŋde', 'saŋde', 'sjaŋde', 'taŋde', 'tjaŋde', 'uaŋde', 'ujaŋde', 'waŋde', 'wjaŋde', 'yaŋde', 'yjaŋde', 'zaŋde', 'zjaŋde', 'ñaŋde', 'ñjaŋde', 'ŋaŋde', 'ŋjaŋde', 'ƴaŋde', 'ƴjaŋde', 'ɓaŋde', 'ɓjaŋde', 'ɗaŋde', 'ɗjaŋde']\n",
      "\n",
      "The type of the returned object should be a set <class 'set'>\n",
      "Number of outputs from edit_one_letter('jaŋde') is 308\n"
     ]
    }
   ],
   "source": [
    "tmp_word = \"jaŋde\"\n",
    "tmp_edit_one_set = edit_one_letter(tmp_word)\n",
    "# turn this into a list to sort it, in order to view it\n",
    "tmp_edit_one_l = sorted(list(tmp_edit_one_set))\n",
    "\n",
    "print(f\"input word {tmp_word} \\nedit_one_l \\n{tmp_edit_one_l}\\n\")\n",
    "print(f\"The type of the returned object should be a set {type(tmp_edit_one_set)}\")\n",
    "print(f\"Number of outputs from edit_one_letter('jaŋde') is {len(edit_one_letter('jaŋde'))}\")"
   ]
  },
  {
   "cell_type": "markdown",
   "metadata": {},
   "source": [
    "## Part 3.2 Edit two letters\n",
    "\n",
    "\n",
    "\n",
    "Let's implement two edits on a word function. To do so, we will get all the possible edits on a single word and then for each modified word, we will modify it again. \n"
   ]
  },
  {
   "cell_type": "code",
   "execution_count": 22,
   "metadata": {},
   "outputs": [],
   "source": [
    "def edit_two_letters(word, allow_switches = True):\n",
    "    '''\n",
    "    Input:\n",
    "        word: the input string/word \n",
    "    Output:\n",
    "        edit_two_set: a set of strings with all possible two edits\n",
    "    '''\n",
    "    \n",
    "        \n",
    "    edit_two_set = list(e2 for e1 in edit_one_letter(word) for e2 in edit_one_letter(e1))\n",
    "    edit_two_set = set(edit_two_set)\n",
    "    \n",
    "    return edit_two_set"
   ]
  },
  {
   "cell_type": "code",
   "execution_count": 24,
   "metadata": {},
   "outputs": [
    {
     "name": "stdout",
     "output_type": "stream",
     "text": [
      "Number of strings with edit distance of two: 8320\n",
      "First 10 strings ['', 'a', 'aa', 'aai', 'aami', 'ab', 'abi', 'abmi', 'ac', 'aci']\n",
      "Last 10 strings ['ɗŋmi', 'ɗƴ', 'ɗƴi', 'ɗƴmi', 'ɗɓ', 'ɗɓi', 'ɗɓmi', 'ɗɗ', 'ɗɗi', 'ɗɗmi']\n",
      "The data type of the returned object should be a set <class 'set'>\n",
      "Number of strings that are 2 edit distances from 'mi' is 8320\n"
     ]
    }
   ],
   "source": [
    "tmp_edit_two_set = edit_two_letters(\"mi\")\n",
    "tmp_edit_two_l = sorted(list(tmp_edit_two_set))\n",
    "print(f\"Number of strings with edit distance of two: {len(tmp_edit_two_l)}\")\n",
    "print(f\"First 10 strings {tmp_edit_two_l[:10]}\")\n",
    "print(f\"Last 10 strings {tmp_edit_two_l[-10:]}\")\n",
    "print(f\"The data type of the returned object should be a set {type(tmp_edit_two_set)}\")\n",
    "print(f\"Number of strings that are 2 edit distances from 'mi' is {len(edit_two_letters('mi'))}\")"
   ]
  },
  {
   "cell_type": "markdown",
   "metadata": {},
   "source": [
    "<a name='3-3'></a>\n",
    "## Part 3-3:  Spelling suggestions\n",
    "\n",
    "Now you that we have computed `edit_two_letters` function, we will use it to get a set of all the possible 2 edits on the input word. We will then use those strings to get the most probable word we meant to type i.e the typing suggestion.\n",
    "\n",
    "Let's implement `get_corrections`, which returns a list of zero to n possible suggestion tuples of the form (word, probability_of_word). \n",
    "\n",
    "**Step 1:** Generate suggestions for a supplied word: We'll use the edit functions we have developed. The 'suggestion algorithm' should follow this logic: \n",
    "* If the word is in the vocabulary, suggest the word. \n",
    "* Otherwise, if there are suggestions from `edit_one_letter` that are in the vocabulary, use those. \n",
    "* Otherwise, if there are suggestions from `edit_two_letters` that are in the vocabulary, use those. \n",
    "* Otherwise, suggest the input word.*  \n",
    "* The idea is that words generated from fewer edits are more likely than words with more edits.\n"
   ]
  },
  {
   "cell_type": "markdown",
   "metadata": {},
   "source": [
    "**Step 2**: Create a 'best_words' dictionary where the 'key' is a suggestion and the 'value' is the probability of that word in the vocabulary. If the word is not in the vocabulary, assign it a probability of 0.\n",
    "\n",
    "**Step 3**: Select the n best suggestions. There may be fewer than n."
   ]
  },
  {
   "cell_type": "code",
   "execution_count": 26,
   "metadata": {},
   "outputs": [],
   "source": [
    "def get_corrections(word, probs, vocab, n=2, verbose = False):\n",
    "    '''\n",
    "    Input: \n",
    "        word: a user entered string to check for suggestions\n",
    "        probs: a dictionary that maps each word to its probability in the corpus\n",
    "        vocab: a set containing all the vocabulary\n",
    "        n: number of possible word corrections you want returned in the dictionary\n",
    "    Output: \n",
    "        n_best: a list of tuples with the most probable n corrected words and their probabilities.\n",
    "    '''  \n",
    "    suggestions = []\n",
    "    n_best = []\n",
    "    suggestions = list((word in vocab and word) or edit_one_letter(word).intersection(vocab) or edit_two_letters(word).intersection(vocab))\n",
    "    n_best = [[s,probs[s]] for s in list(reversed(suggestions))]\n",
    "    \n",
    "    if verbose: print(\"suggestions = \", suggestions)\n",
    "\n",
    "    return n_best"
   ]
  },
  {
   "cell_type": "code",
   "execution_count": 45,
   "metadata": {},
   "outputs": [],
   "source": [
    "def auto_correct(input_word):\n",
    "    correction = get_corrections(input_word, probs, vocab, 2, verbose=True)\n",
    "    for i, word_prob in enumerate(correction):\n",
    "        print(f\"word {i}: {word_prob[0]}, probability {word_prob[1]:.6f}\")"
   ]
  },
  {
   "cell_type": "markdown",
   "metadata": {},
   "source": [
    "#### Let's test our implementation with the word `mbaroodi` which means `lion` in pulaar. We will purposely omit one letter in the word. Let's say the `o`."
   ]
  },
  {
   "cell_type": "code",
   "execution_count": 48,
   "metadata": {},
   "outputs": [
    {
     "name": "stdout",
     "output_type": "stream",
     "text": [
      "suggestions =  ['mbaroodi']\n",
      "word 0: mbaroodi, probability 0.000222\n"
     ]
    }
   ],
   "source": [
    "auto_correct('mbarodi')"
   ]
  },
  {
   "cell_type": "markdown",
   "metadata": {},
   "source": [
    "#### Another example with the word  `puccu/pucci` which means `horse/horses` in pulaar."
   ]
  },
  {
   "cell_type": "code",
   "execution_count": 49,
   "metadata": {},
   "outputs": [
    {
     "name": "stdout",
     "output_type": "stream",
     "text": [
      "suggestions =  ['pucci', 'puccu']\n",
      "word 0: puccu, probability 0.000296\n",
      "word 1: pucci, probability 0.000222\n"
     ]
    }
   ],
   "source": [
    "auto_correct('pucc')"
   ]
  },
  {
   "cell_type": "markdown",
   "metadata": {},
   "source": [
    "#### Another example with the `bottaari` which means `lunch` in pulaar."
   ]
  },
  {
   "cell_type": "code",
   "execution_count": 52,
   "metadata": {},
   "outputs": [
    {
     "name": "stdout",
     "output_type": "stream",
     "text": [
      "suggestions =  ['bottaari']\n",
      "word 0: bottaari, probability 0.000222\n"
     ]
    }
   ],
   "source": [
    "auto_correct('bottary')"
   ]
  },
  {
   "cell_type": "markdown",
   "metadata": {},
   "source": [
    "#### An example with the word `ñaagaade` which means `beg/ask` in pulaar."
   ]
  },
  {
   "cell_type": "code",
   "execution_count": 53,
   "metadata": {},
   "outputs": [
    {
     "name": "stdout",
     "output_type": "stream",
     "text": [
      "suggestions =  ['ñaagaade']\n",
      "word 0: ñaagaade, probability 0.000148\n"
     ]
    }
   ],
   "source": [
    "auto_correct('ñagoade')"
   ]
  },
  {
   "cell_type": "markdown",
   "metadata": {},
   "source": [
    "#### An example with the word `ñemmbiɗinde` which means `model/modeling` in pulaar."
   ]
  },
  {
   "cell_type": "code",
   "execution_count": 59,
   "metadata": {},
   "outputs": [
    {
     "name": "stdout",
     "output_type": "stream",
     "text": [
      "suggestions =  ['ñemmbiɗingol', 'ñemmbiɗinde']\n",
      "word 0: ñemmbiɗinde, probability 0.000148\n",
      "word 1: ñemmbiɗingol, probability 0.000148\n"
     ]
    }
   ],
   "source": [
    "auto_correct('ñemmbiɗing')"
   ]
  },
  {
   "cell_type": "markdown",
   "metadata": {},
   "source": [
    "# Part 4: Minimum Edit distance\n",
    "\n",
    "Now that we have implemented the auto-correct, how do we evaluate the similarity between two strings? \n",
    "How do you efficiently find the shortest path to go from the word, 'waht' for instance to the word 'what'?\n",
    "\n",
    "We will implement a dynamic programming system that will tell us the minimum number of edits required to convert a string into another string. To learn more about Dynamic programming, check out this lecture from [stanford](https://web.stanford.edu/class/cs124/lec/med.pdf)"
   ]
  },
  {
   "cell_type": "markdown",
   "metadata": {},
   "source": [
    "### Part 4.1 Dynamic Programming"
   ]
  },
  {
   "cell_type": "markdown",
   "metadata": {},
   "source": [
    "Let's implement the function below to get the minimum amount of edits required given a source string and a target string. "
   ]
  },
  {
   "cell_type": "code",
   "execution_count": 31,
   "metadata": {},
   "outputs": [],
   "source": [
    "def min_edit_distance(source, target, ins_cost = 1, del_cost = 1, rep_cost = 2):\n",
    "    '''\n",
    "    Input: \n",
    "        source: a string corresponding to the string you are starting with\n",
    "        target: a string corresponding to the string you want to end with\n",
    "        ins_cost: an integer setting the insert cost\n",
    "        del_cost: an integer setting the delete cost\n",
    "        rep_cost: an integer setting the replace cost\n",
    "    Output:\n",
    "        D: a matrix of len(source)+1 by len(target)+1 containing minimum edit distances\n",
    "        med: the minimum edit distance (med) required to convert the source string to the target\n",
    "    '''\n",
    "    # use deletion and insert cost as  1\n",
    "    m = len(source) \n",
    "    n = len(target) \n",
    "    \n",
    "    #initialize cost matrix with zeros and dimensions (m+1,n+1) \n",
    "    D = np.zeros((m+1, n+1), dtype=int) \n",
    "    \n",
    "    ### START CODE HERE (Replace instances of 'None' with your code) ###\n",
    "    \n",
    "    # Fill in column 0, from row 1 to row m, both inclusive\n",
    "    for row in range(1,m+1): \n",
    "        D[row,0] = D[row - 1, 0] + del_cost\n",
    "        \n",
    "    # Fill in row 0, for all columns from 1 to n, both inclusive\n",
    "    for col in range(1,n+1): \n",
    "        D[0,col] = D[0,col - 1] + ins_cost\n",
    "        \n",
    "    # Loop through row 1 to row m, both inclusive\n",
    "    for row in range(1,m+1): \n",
    "        \n",
    "        # Loop through column 1 to column n, both inclusive\n",
    "        for col in range(1,n+1):\n",
    "            \n",
    "            # Intialize r_cost to the 'replace' cost that is passed into this function\n",
    "            r_cost = rep_cost\n",
    "            \n",
    "            # Check to see if source character at the previous row\n",
    "            # matches the target character at the previous column, \n",
    "            if source[row - 1] == target[col - 1]:\n",
    "                \n",
    "                # Update the replacement cost to 0 if source and target are the same\n",
    "                r_cost = 0\n",
    "                \n",
    "            # Update the cost at row, col based on previous entries in the cost matrix\n",
    "            # Refer to the equation calculate for D[i,j] (the minimum of three calculated costs)\n",
    "            D[row,col] = min(D[row-1,col] + del_cost, D[row, col-1] + ins_cost, D[row-1,col-1] + r_cost)\n",
    "          \n",
    "    # Set the minimum edit distance with the cost found at row m, column n\n",
    "    med = D[m,n]\n",
    "    \n",
    "    return D, med"
   ]
  },
  {
   "cell_type": "code",
   "execution_count": 32,
   "metadata": {},
   "outputs": [
    {
     "name": "stdout",
     "output_type": "stream",
     "text": [
      "minimum edits:  2 \n",
      "\n",
      "   #  n  g  a  a  r  i\n",
      "#  0  1  2  3  4  5  6\n",
      "n  1  0  1  2  3  4  5\n",
      "g  2  1  0  1  2  3  4\n",
      "a  3  2  1  0  1  2  3\n",
      "a  4  3  2  1  0  1  2\n",
      "r  5  4  3  2  1  0  1\n",
      "o  6  5  4  3  2  1  2\n"
     ]
    }
   ],
   "source": [
    "# testing your implementation \n",
    "source =  'ngaaro'\n",
    "target = 'ngaari'\n",
    "matrix, min_edits = min_edit_distance(source, target)\n",
    "print(\"minimum edits: \",min_edits, \"\\n\")\n",
    "idx = list('#' + source)\n",
    "cols = list('#' + target)\n",
    "df = pd.DataFrame(matrix, index=idx, columns= cols)\n",
    "print(df)"
   ]
  },
  {
   "cell_type": "code",
   "execution_count": 33,
   "metadata": {},
   "outputs": [
    {
     "name": "stdout",
     "output_type": "stream",
     "text": [
      "minimum edits:  4 \n",
      "\n",
      "   #  g  i  t  e\n",
      "#  0  1  2  3  4\n",
      "g  1  0  1  2  3\n",
      "u  2  1  2  3  4\n",
      "t  3  2  3  2  3\n",
      "o  4  3  4  3  4\n"
     ]
    }
   ],
   "source": [
    "#DO NOT MODIFY THIS CELL\n",
    "# testing your implementation \n",
    "source =  'guto'\n",
    "target = 'gite'\n",
    "matrix, min_edits = min_edit_distance(source, target)\n",
    "print(\"minimum edits: \",min_edits, \"\\n\")\n",
    "idx = list(source)\n",
    "idx.insert(0, '#')\n",
    "cols = list(target)\n",
    "cols.insert(0, '#')\n",
    "df = pd.DataFrame(matrix, index=idx, columns= cols)\n",
    "print(df)"
   ]
  }
 ],
 "metadata": {
  "coursera": {
   "schema_names": [
    "NLPC2-1"
   ]
  },
  "kernelspec": {
   "display_name": "Python 3",
   "language": "python",
   "name": "python3"
  },
  "language_info": {
   "codemirror_mode": {
    "name": "ipython",
    "version": 3
   },
   "file_extension": ".py",
   "mimetype": "text/x-python",
   "name": "python",
   "nbconvert_exporter": "python",
   "pygments_lexer": "ipython3",
   "version": "3.7.4"
  }
 },
 "nbformat": 4,
 "nbformat_minor": 4
}
